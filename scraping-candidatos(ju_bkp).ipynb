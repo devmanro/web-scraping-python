{
 "cells": [
  {
   "cell_type": "code",
   "execution_count": 1,
   "metadata": {
    "collapsed": true
   },
   "outputs": [],
   "source": [
    "import requests\n",
    "import re\n",
    "from bs4 import BeautifulSoup\n",
    "import pandas as pd\n",
    "import numpy as np\n"
   ]
  },
  {
   "cell_type": "code",
   "execution_count": 13,
   "metadata": {
    "collapsed": true
   },
   "outputs": [],
   "source": [
    "def countSearch(page):\n",
    "    \n",
    "    pattern = {'saúde' : ['saúde', 'hospital',  'médicos'], 'segurança' : ['segurança'], 'educação' : ['educação', 'escolas'], 'economia' : ['economia']}\n",
    "    candidate = {'saúde' : 0, 'segurança' : 0, 'educação' : 0, 'economia' : 0}\n",
    "    \n",
    "    page = requests.get(page)\n",
    "    soup = BeautifulSoup(page.content, 'html.parser')\n",
    "    \n",
    "    for key, words in pattern.items():\n",
    "        candidate[key] = sum( [len(soup.findAll( text = re.compile(w))) for w in words] )\n",
    "    \n",
    "    return candidate\n",
    "    \n",
    "    "
   ]
  },
  {
   "cell_type": "markdown",
   "metadata": {},
   "source": [
    "## Paulo Rabello de Castro (PSC)"
   ]
  },
  {
   "cell_type": "code",
   "execution_count": 14,
   "metadata": {},
   "outputs": [
    {
     "data": {
      "text/plain": [
       "{'economia': 0, 'educação': 0, 'saúde': 0, 'segurança': 0}"
      ]
     },
     "execution_count": 14,
     "metadata": {},
     "output_type": "execute_result"
    }
   ],
   "source": [
    "countSearch(\"https://www1.folha.uol.com.br/poder/2018/03/filiado-ao-psc-rabello-de-castro-deixa-bndes-para-disputar-eleicoes.shtml\")\n",
    "#countSearch(\"http://congressoemfoco.uol.com.br/eleicoes-2014/programa-de-governo-de-levy-fidelix/\")"
   ]
  },
  {
   "cell_type": "markdown",
   "metadata": {},
   "source": [
    "## Michel Temer (MDB)\n"
   ]
  },
  {
   "cell_type": "code",
   "execution_count": 4,
   "metadata": {},
   "outputs": [
    {
     "data": {
      "text/plain": [
       "{'economia': 1, 'educação': 0, 'saúde': 0, 'segurança': 0}"
      ]
     },
     "execution_count": 4,
     "metadata": {},
     "output_type": "execute_result"
    }
   ],
   "source": [
    "countSearch(\"http://micheltemer.com.br/frases/\")"
   ]
  },
  {
   "cell_type": "markdown",
   "metadata": {},
   "source": [
    "## Henrique Meirelles (PSD)"
   ]
  },
  {
   "cell_type": "code",
   "execution_count": 5,
   "metadata": {},
   "outputs": [
    {
     "data": {
      "text/plain": [
       "{'economia': 5, 'educação': 0, 'saúde': 0, 'segurança': 0}"
      ]
     },
     "execution_count": 5,
     "metadata": {},
     "output_type": "execute_result"
    }
   ],
   "source": [
    "countSearch(\"http://investimentosenoticias.com.br/eleicoes/henrique-meirelles-candidato-a-presidencia-em-2018\")"
   ]
  },
  {
   "cell_type": "markdown",
   "metadata": {},
   "source": [
    "## Aldo Rebelo e Beto Albuquerque (PSB)"
   ]
  },
  {
   "cell_type": "code",
   "execution_count": 6,
   "metadata": {},
   "outputs": [
    {
     "data": {
      "text/plain": [
       "{'economia': 1, 'educação': 3, 'saúde': 1, 'segurança': 0}"
      ]
     },
     "execution_count": 6,
     "metadata": {},
     "output_type": "execute_result"
    }
   ],
   "source": [
    "countSearch(\"https://exame.abril.com.br/brasil/solidariedade-lanca-aldo-rebelo-como-pre-candidato-a-presidente/\")"
   ]
  },
  {
   "cell_type": "markdown",
   "metadata": {},
   "source": [
    "## Valéria Monteiro (PMN)"
   ]
  },
  {
   "cell_type": "code",
   "execution_count": 7,
   "metadata": {},
   "outputs": [
    {
     "data": {
      "text/plain": [
       "{'economia': 0, 'educação': 1, 'saúde': 1, 'segurança': 0}"
      ]
     },
     "execution_count": 7,
     "metadata": {},
     "output_type": "execute_result"
    }
   ],
   "source": [
    "countSearch(\"https://veja.abril.com.br/blog/veja-gente/valeria-monteiro-candidata-a-presidente-sou-uma-via-de-reacao/\")"
   ]
  },
  {
   "cell_type": "code",
   "execution_count": 8,
   "metadata": {},
   "outputs": [
    {
     "data": {
      "text/plain": [
       "{'economia': 0, 'educação': 1, 'saúde': 0, 'segurança': 0}"
      ]
     },
     "execution_count": 8,
     "metadata": {},
     "output_type": "execute_result"
    }
   ],
   "source": [
    "countSearch(\"https://noticias.uol.com.br/politica/eleicoes/2018/noticias/2018/03/05/pre-candidata-ex-jornalista-da-globo-estuda-usar-bordao-no-estilo-eneas.htm\")"
   ]
  },
  {
   "cell_type": "markdown",
   "metadata": {},
   "source": [
    "## Rodrigo Maia (DEM)"
   ]
  },
  {
   "cell_type": "code",
   "execution_count": 9,
   "metadata": {},
   "outputs": [
    {
     "data": {
      "text/plain": [
       "{'economia': 0, 'educação': 2, 'saúde': 1, 'segurança': 1}"
      ]
     },
     "execution_count": 9,
     "metadata": {},
     "output_type": "execute_result"
    }
   ],
   "source": [
    "countSearch(\"http://www.gazetadopovo.com.br/eleicoes/2018/dem-lanca-maia-para-presidente-e-divulga-proposta-liberal-humanista-414ifo7ajuye81q47t1ay9s41\")"
   ]
  },
  {
   "cell_type": "markdown",
   "metadata": {},
   "source": [
    "## Marina Silva (Rede)"
   ]
  },
  {
   "cell_type": "code",
   "execution_count": 10,
   "metadata": {},
   "outputs": [
    {
     "data": {
      "text/plain": [
       "{'economia': 88, 'educação': 160, 'saúde': 108, 'segurança': 70}"
      ]
     },
     "execution_count": 10,
     "metadata": {},
     "output_type": "execute_result"
    }
   ],
   "source": [
    "countSearch(\"http://marinasilva.org.br/programa/#pagina-107\")"
   ]
  },
  {
   "cell_type": "markdown",
   "metadata": {},
   "source": [
    "## Manuela D'Ávila (PC do B)"
   ]
  },
  {
   "cell_type": "code",
   "execution_count": 11,
   "metadata": {},
   "outputs": [
    {
     "data": {
      "text/plain": [
       "{'economia': 3, 'educação': 0, 'saúde': 2, 'segurança': 0}"
      ]
     },
     "execution_count": 11,
     "metadata": {},
     "output_type": "execute_result"
    }
   ],
   "source": [
    "countSearch(\"http://bardebatom.com.br/noticia/manuela-davila-conheca-a-candidata-a-presidencia\")"
   ]
  },
  {
   "cell_type": "code",
   "execution_count": 12,
   "metadata": {},
   "outputs": [
    {
     "data": {
      "text/plain": [
       "{'economia': 0, 'educação': 0, 'saúde': 0, 'segurança': 0}"
      ]
     },
     "execution_count": 12,
     "metadata": {},
     "output_type": "execute_result"
    }
   ],
   "source": [
    "countSearch(\"http://www.redebrasilatual.com.br/politica/2017/11/pre-candidata-manuela-davila-defende-consulta-para-revogar-medidas-de-temer\")"
   ]
  },
  {
   "cell_type": "code",
   "execution_count": null,
   "metadata": {
    "collapsed": true
   },
   "outputs": [],
   "source": []
  }
 ],
 "metadata": {
  "kernelspec": {
   "display_name": "Python 3",
   "language": "python",
   "name": "python3"
  },
  "language_info": {
   "codemirror_mode": {
    "name": "ipython",
    "version": 3
   },
   "file_extension": ".py",
   "mimetype": "text/x-python",
   "name": "python",
   "nbconvert_exporter": "python",
   "pygments_lexer": "ipython3",
   "version": "3.6.3"
  }
 },
 "nbformat": 4,
 "nbformat_minor": 2
}
